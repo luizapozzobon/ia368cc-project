{
    "cells": [
        {
            "cell_type": "code",
            "execution_count": 7,
            "source": [
                "import sys\n",
                "from pathlib import Path\n",
                "\n",
                "ROOT_DIR = Path(\".\").resolve().parents[0]\n",
                "REF_DIR = ROOT_DIR / \"references\""
            ],
            "outputs": [],
            "metadata": {}
        },
        {
            "cell_type": "code",
            "execution_count": 8,
            "source": [
                "# add references directories to path\n",
                "assert REF_DIR.exists()\n",
                "sys.path.append(REF_DIR / \"MONet-pytorch\")"
            ],
            "outputs": [
                {
                    "output_type": "execute_result",
                    "data": {
                        "text/plain": [
                            "PosixPath('/home/luiza/Documents/estudos/mestrado/IA368-CC/ia368cc-project/references')"
                        ]
                    },
                    "metadata": {},
                    "execution_count": 8
                }
            ],
            "metadata": {}
        },
        {
            "cell_type": "code",
            "execution_count": 5,
            "source": [
                "# MONet imports\n",
                "import time\n",
                "from options.train_options import TrainOptions\n",
                "from data import create_dataset\n",
                "from models import create_model\n",
                "from util.visualizer import Visualizer"
            ],
            "outputs": [],
            "metadata": {}
        },
        {
            "cell_type": "code",
            "execution_count": null,
            "source": [
                "opt = TrainOptions().parse()   # get training options\n",
                "dataset = create_dataset(opt)  # create a dataset given opt.dataset_mode and other options\n",
                "dataset_size = len(dataset)    # get the number of images in the dataset.\n",
                "print('The number of training images = %d' % dataset_size)\n",
                "\n",
                "model = create_model(opt)      # create a model given opt.model and other options\n",
                "model.setup(opt)               # regular setup: load and print networks; create schedulers\n",
                "visualizer = Visualizer(opt)   # create a visualizer that display/save images and plots\n",
                "total_iters = 0                # the total number of training iterations\n",
                "\n",
                "for epoch in range(opt.epoch_count, opt.niter + opt.niter_decay + 1):    # outer loop for different epochs; we save the model by <epoch_count>, <epoch_count>+<save_latest_freq>\n",
                "    epoch_start_time = time.time()  # timer for entire epoch\n",
                "    iter_data_time = time.time()    # timer for data loading per iteration\n",
                "    epoch_iter = 0                  # the number of training iterations in current epoch, reset to 0 every epoch\n",
                "\n",
                "    for i, data in enumerate(dataset):  # inner loop within one epoch\n",
                "        iter_start_time = time.time()  # timer for computation per iteration\n",
                "        if total_iters % opt.print_freq == 0:\n",
                "            t_data = iter_start_time - iter_data_time\n",
                "        visualizer.reset()\n",
                "        total_iters += opt.batch_size\n",
                "        epoch_iter += opt.batch_size\n",
                "        model.set_input(data)         # unpack data from dataset and apply preprocessing\n",
                "        model.optimize_parameters()   # calculate loss functions, get gradients, update network weights\n",
                "\n",
                "        if total_iters % opt.display_freq == 0:   # display images on visdom and save images to a HTML file\n",
                "            save_result = total_iters % opt.update_html_freq == 0\n",
                "            model.compute_visuals()\n",
                "            visualizer.display_current_results(model.get_current_visuals(), epoch, save_result)\n",
                "\n",
                "        if total_iters % opt.print_freq == 0:    # print training losses and save logging information to the disk\n",
                "            losses = model.get_current_losses()\n",
                "            t_comp = (time.time() - iter_start_time) / opt.batch_size\n",
                "            visualizer.print_current_losses(epoch, epoch_iter, losses, t_comp, t_data)\n",
                "            if opt.display_id > 0:\n",
                "                visualizer.plot_current_losses(epoch, float(epoch_iter) / dataset_size, losses)\n",
                "\n",
                "        if total_iters % opt.save_latest_freq == 0:   # cache our latest model every <save_latest_freq> iterations\n",
                "            print('saving the latest model (epoch %d, total_iters %d)' % (epoch, total_iters))\n",
                "            save_suffix = 'iter_%d' % total_iters if opt.save_by_iter else 'latest'\n",
                "            model.save_networks(save_suffix)\n",
                "\n",
                "        iter_data_time = time.time()\n",
                "    if epoch % opt.save_epoch_freq == 0:              # cache our model every <save_epoch_freq> epochs\n",
                "        print('saving the model at the end of epoch %d, iters %d' % (epoch, total_iters))\n",
                "        model.save_networks('latest')\n",
                "        model.save_networks(epoch)\n",
                "\n",
                "    print('End of epoch %d / %d \\t Time Taken: %d sec' % (epoch, opt.niter + opt.niter_decay, time.time() - epoch_start_time))\n",
                "    model.update_learning_rate()                     # update learning rates at the end of every epoch.\n"
            ],
            "outputs": [],
            "metadata": {}
        },
        {
            "cell_type": "code",
            "execution_count": null,
            "source": [],
            "outputs": [],
            "metadata": {}
        }
    ],
    "metadata": {
        "orig_nbformat": 4,
        "language_info": {
            "name": "python",
            "version": "3.8.11",
            "mimetype": "text/x-python",
            "codemirror_mode": {
                "name": "ipython",
                "version": 3
            },
            "pygments_lexer": "ipython3",
            "nbconvert_exporter": "python",
            "file_extension": ".py"
        },
        "kernelspec": {
            "name": "python3",
            "display_name": "Python 3.8.11 64-bit ('ia368cc-project': conda)"
        },
        "interpreter": {
            "hash": "d8c7565c1e44500577ca8b6c85178eb7b76e6d76d41f87ec97e3d587d19d4ca6"
        }
    },
    "nbformat": 4,
    "nbformat_minor": 2
}